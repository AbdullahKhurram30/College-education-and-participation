{
 "cells": [
  {
   "cell_type": "code",
   "execution_count": 3,
   "id": "e0f4e997",
   "metadata": {},
   "outputs": [],
   "source": [
    "# DESCRPITION\n",
    "#########################################  \n",
    "# This file is the run code that produces the 766642*6 propensity score models.  The function, 'pscore.eval', is used to \n",
    "#  implement the randomized sampling built in the 'indicator' matrix, and to estimate the ATT and ATC models based on \n",
    "#  these random covariate permutations.  The function, 'pscore.eval', estimates the following models:\n",
    "#\n",
    "#  (a) ATT: 1 to 1, predicted probability\n",
    "#  (b) ATT: 1 to 3, predicted probability\n",
    "#  (c) ATT: 1 to 1, linear predictor\n",
    "#  (d) ATT: 1 to 3, linear predictor\n",
    "#  (e) ATC: 1 to 3, linear predictor\n",
    "#  (f) ATC: 1 to 1, linear predictor\n",
    "#\n",
    "# In each of these, the function also computes balance statistics for the key covariates, and all 355 dichotomized covariates,\n",
    "#  as well as diagnostic statistics on the propensity score that is estimated. \n",
    "#\n",
    "# WARNING: DO NOT RUN THE PSCORE MATCH ITERATIONS IN THE SAME R SESSION!  THIS WILL TAKE FOREVER! The 'indicator' object\n",
    "#  is 766642 x 81.  On a fast computer, about 10 iterations may be run per minute.  This means running the full algorithm\n",
    "#  may take over 50 days.  These should be separated into multiple runs (e.g. about 15 groups), run in Unix BATCH mode \n",
    "#  (i.e. nohup R < 'file.R' --vanilla &), and run on a very powerful machine (preferably one you can leave running \n",
    "#  for a few days or weeks), or even better on a cluster network.  This code is meant to illustrate the sample data generating \n",
    "#  procedure, and should be ested with a very small sample of the full indicator matrix.\n",
    "\n",
    "\n",
    "library(MASS)\n",
    "library(Matching)\n",
    "source('funcs.R')\n",
    "#source('itersFuncs.R')\n",
    "load(\"WhoMatches.Rdata\")"
   ]
  },
  {
   "cell_type": "code",
   "execution_count": null,
   "id": "261d325c",
   "metadata": {},
   "outputs": [],
   "source": [
    "# Propensity Score Iterations: Example \n",
    "\n",
    "object=apply(indicator[1:2,],1,pscore.eval)\n",
    "rownames(object)=c(\n",
    "\"Est_PredProbATT1\",\"Pvalue\",\"yGPA.ks.pvalue\",\"yGPA.t.pvalue\",\"yGen.t.pvalue\",\"yRace1.t.pvalue\",\"yRace2.t.pvalue\",\"yRep.t.pvalue\",\"yKnowledge.ks.pvalue\",\"yKnowledge.t.pvalue\",\"yNextSch.t.pvalue\",\"pVote.t.pvalue\",\"pPersuade.t.pvalue\",\"pParticipate2.ks.pvalue\",\"pParticipate2.t.pvalue\",\"pEmploy.t.pvalue\",\"pEducHH.ks.pvalue\",\"pEducHH.t.pvalue\",\"pEducW.ks.pvalue\",\"pEducW.t.pvalue\",\"pHHInc.ks.pvalue\",\"pHHInc.t.pvalue\",\"pOwnHome.t.pvalue\",\"pRep.t.pvalue\",\"pKnowledge.ks.pvalue\",\"pKnowledge.t.pvalue\",\"Mean Count Bal. Key\",\"Mean Bal. Key\",\"Var. Bal. Key\",\"Mean Count Bal. All\",\"Mean Bal. All\",\"Var Bal. All\",\"% eta >.99\",\"% eta >.99\",\"% eta >.90\",\"% eta >.75\",\"% eta >.50\",\"% eta >.25\",\"% eta >.1\",\n",
    "\"Est_PredPredATT3\",\"Pvalue\",\"yGPA.ks.pvalue\",\"yGPA.t.pvalue\",\"yGen.t.pvalue\",\"yRace1.t.pvalue\",\"yRace2.t.pvalue\",\"yRep.t.pvalue\",\"yKnowledge.ks.pvalue\",\"yKnowledge.t.pvalue\",\"yNextSch.t.pvalue\",\"pVote.t.pvalue\",\"pPersuade.t.pvalue\",\"pParticipate2.ks.pvalue\",\"pParticipate2.t.pvalue\",\"pEmploy.t.pvalue\",\"pEducHH.ks.pvalue\",\"pEducHH.t.pvalue\",\"pEducW.ks.pvalue\",\"pEducW.t.pvalue\",\"pHHInc.ks.pvalue\",\"pHHInc.t.pvalue\",\"pOwnHome.t.pvalue\",\"pRep.t.pvalue\",\"pKnowledge.ks.pvalue\",\"pKnowledge.t.pvalue\",\"Mean Count Bal. Key\",\"Mean Bal. Key\",\"Var. Bal. Key\",\"Mean Count Bal. All\",\"Mean Bal. All\",\"Var Bal. All\",\"% eta >.99\",\"% eta >.99\",\"% eta >.90\",\"% eta >.75\",\"% eta >.50\",\"% eta >.25\",\"% eta >.1\",\n",
    "\"Est_LinPredATT1\",\"Pvalue\",\"yGPA.ks.pvalue\",\"yGPA.t.pvalue\",\"yGen.t.pvalue\",\"yRace1.t.pvalue\",\"yRace2.t.pvalue\",\"yRep.t.pvalue\",\"yKnowledge.ks.pvalue\",\"yKnowledge.t.pvalue\",\"yNextSch.t.pvalue\",\"pVote.t.pvalue\",\"pPersuade.t.pvalue\",\"pParticipate2.ks.pvalue\",\"pParticipate2.t.pvalue\",\"pEmploy.t.pvalue\",\"pEducHH.ks.pvalue\",\"pEducHH.t.pvalue\",\"pEducW.ks.pvalue\",\"pEducW.t.pvalue\",\"pHHInc.ks.pvalue\",\"pHHInc.t.pvalue\",\"pOwnHome.t.pvalue\",\"pRep.t.pvalue\",\"pKnowledge.ks.pvalue\",\"pKnowledge.t.pvalue\",\"Mean Count Bal. Key\",\"Mean Bal. Key\",\"Var. Bal. Key\",\"Mean Count Bal. All\",\"Mean Bal. All\",\"Var Bal. All\",\"% eta >.99\",\"% eta >.99\",\"% eta >.90\",\"% eta >.75\",\"% eta >.50\",\"% eta >.25\",\"% eta >.1\",\n",
    "\"Est_LinProbATT3\",\"Pvalue\",\"yGPA.ks.pvalue\",\"yGPA.t.pvalue\",\"yGen.t.pvalue\",\"yRace1.t.pvalue\",\"yRace2.t.pvalue\",\"yRep.t.pvalue\",\"yKnowledge.ks.pvalue\",\"yKnowledge.t.pvalue\",\"yNextSch.t.pvalue\",\"pVote.t.pvalue\",\"pPersuade.t.pvalue\",\"pParticipate2.ks.pvalue\",\"pParticipate2.t.pvalue\",\"pEmploy.t.pvalue\",\"pEducHH.ks.pvalue\",\"pEducHH.t.pvalue\",\"pEducW.ks.pvalue\",\"pEducW.t.pvalue\",\"pHHInc.ks.pvalue\",\"pHHInc.t.pvalue\",\"pOwnHome.t.pvalue\",\"pRep.t.pvalue\",\"pKnowledge.ks.pvalue\",\"pKnowledge.t.pvalue\",\"Mean Count Bal. Key\",\"Mean Bal. Key\",\"Var. Bal. Key\",\"Mean Count Bal. All\",\"Mean Bal. All\",\"Var Bal. All\",\"% eta >.99\",\"% eta >.99\",\"% eta >.90\",\"% eta >.75\",\"% eta >.50\",\"% eta >.25\",\"% eta >.1\",\n",
    "\"Est_LinPredATC1\",\"Pvalue\",\"yGPA.ks.pvalue\",\"yGPA.t.pvalue\",\"yGen.t.pvalue\",\"yRace1.t.pvalue\",\"yRace2.t.pvalue\",\"yRep.t.pvalue\",\"yKnowledge.ks.pvalue\",\"yKnowledge.t.pvalue\",\"yNextSch.t.pvalue\",\"pVote.t.pvalue\",\"pPersuade.t.pvalue\",\"pParticipate2.ks.pvalue\",\"pParticipate2.t.pvalue\",\"pEmploy.t.pvalue\",\"pEducHH.ks.pvalue\",\"pEducHH.t.pvalue\",\"pEducW.ks.pvalue\",\"pEducW.t.pvalue\",\"pHHInc.ks.pvalue\",\"pHHInc.t.pvalue\",\"pOwnHome.t.pvalue\",\"pRep.t.pvalue\",\"pKnowledge.ks.pvalue\",\"pKnowledge.t.pvalue\",\"Mean Count Bal. Key\",\"Mean Bal. Key\",\"Var. Bal. Key\",\"Mean Count Bal. All\",\"Mean Bal. All\",\"Var Bal. All\",\"% eta >.99\",\"% eta >.99\",\"% eta >.90\",\"% eta >.75\",\"% eta >.50\",\"% eta >.25\",\"% eta >.1\",\n",
    "\"Est_LinPredATC3\",\"Pvalue\",\"yGPA.ks.pvalue\",\"yGPA.t.pvalue\",\"yGen.t.pvalue\",\"yRace1.t.pvalue\",\"yRace2.t.pvalue\",\"yRep.t.pvalue\",\"yKnowledge.ks.pvalue\",\"yKnowledge.t.pvalue\",\"yNextSch.t.pvalue\",\"pVote.t.pvalue\",\"pPersuade.t.pvalue\",\"pParticipate2.ks.pvalue\",\"pParticipate2.t.pvalue\",\"pEmploy.t.pvalue\",\"pEducHH.ks.pvalue\",\"pEducHH.t.pvalue\",\"pEducW.ks.pvalue\",\"pEducW.t.pvalue\",\"pHHInc.ks.pvalue\",\"pHHInc.t.pvalue\",\"pOwnHome.t.pvalue\",\"pRep.t.pvalue\",\"pKnowledge.ks.pvalue\",\"pKnowledge.t.pvalue\",\"Mean Count Bal. Key\",\"Mean Bal. Key\",\"Var. Bal. Key\",\"Mean Count Bal. All\",\"Mean Bal. All\",\"Var Bal. All\",\"% eta >.99\",\"% eta >.99\",\"% eta >.90\",\"% eta >.75\",\"% eta >.50\",\"% eta >.25\",\"% eta >.1\")\n",
    "save(object,file=\"81_full.Rdata\")"
   ]
  },
  {
   "cell_type": "code",
   "execution_count": null,
   "id": "84a8655c",
   "metadata": {},
   "outputs": [],
   "source": [
    "# Propensity Score Iterations: Full\n",
    "\n",
    "object=apply(indicator,1,pscore.eval)\n",
    "rownames(object)=c(\n",
    "\"Est_PredProbATT1\",\"Pvalue\",\"yGPA.ks.pvalue\",\"yGPA.t.pvalue\",\"yGen.t.pvalue\",\"yRace1.t.pvalue\",\"yRace2.t.pvalue\",\"yRep.t.pvalue\",\"yKnowledge.ks.pvalue\",\"yKnowledge.t.pvalue\",\"yNextSch.t.pvalue\",\"pVote.t.pvalue\",\"pPersuade.t.pvalue\",\"pParticipate2.ks.pvalue\",\"pParticipate2.t.pvalue\",\"pEmploy.t.pvalue\",\"pEducHH.ks.pvalue\",\"pEducHH.t.pvalue\",\"pEducW.ks.pvalue\",\"pEducW.t.pvalue\",\"pHHInc.ks.pvalue\",\"pHHInc.t.pvalue\",\"pOwnHome.t.pvalue\",\"pRep.t.pvalue\",\"pKnowledge.ks.pvalue\",\"pKnowledge.t.pvalue\",\"Mean Count Bal. Key\",\"Mean Bal. Key\",\"Var. Bal. Key\",\"Mean Count Bal. All\",\"Mean Bal. All\",\"Var Bal. All\",\"% eta >.99\",\"% eta >.99\",\"% eta >.90\",\"% eta >.75\",\"% eta >.50\",\"% eta >.25\",\"% eta >.1\",\n",
    "\"Est_PredPredATT3\",\"Pvalue\",\"yGPA.ks.pvalue\",\"yGPA.t.pvalue\",\"yGen.t.pvalue\",\"yRace1.t.pvalue\",\"yRace2.t.pvalue\",\"yRep.t.pvalue\",\"yKnowledge.ks.pvalue\",\"yKnowledge.t.pvalue\",\"yNextSch.t.pvalue\",\"pVote.t.pvalue\",\"pPersuade.t.pvalue\",\"pParticipate2.ks.pvalue\",\"pParticipate2.t.pvalue\",\"pEmploy.t.pvalue\",\"pEducHH.ks.pvalue\",\"pEducHH.t.pvalue\",\"pEducW.ks.pvalue\",\"pEducW.t.pvalue\",\"pHHInc.ks.pvalue\",\"pHHInc.t.pvalue\",\"pOwnHome.t.pvalue\",\"pRep.t.pvalue\",\"pKnowledge.ks.pvalue\",\"pKnowledge.t.pvalue\",\"Mean Count Bal. Key\",\"Mean Bal. Key\",\"Var. Bal. Key\",\"Mean Count Bal. All\",\"Mean Bal. All\",\"Var Bal. All\",\"% eta >.99\",\"% eta >.99\",\"% eta >.90\",\"% eta >.75\",\"% eta >.50\",\"% eta >.25\",\"% eta >.1\",\n",
    "\"Est_LinPredATT1\",\"Pvalue\",\"yGPA.ks.pvalue\",\"yGPA.t.pvalue\",\"yGen.t.pvalue\",\"yRace1.t.pvalue\",\"yRace2.t.pvalue\",\"yRep.t.pvalue\",\"yKnowledge.ks.pvalue\",\"yKnowledge.t.pvalue\",\"yNextSch.t.pvalue\",\"pVote.t.pvalue\",\"pPersuade.t.pvalue\",\"pParticipate2.ks.pvalue\",\"pParticipate2.t.pvalue\",\"pEmploy.t.pvalue\",\"pEducHH.ks.pvalue\",\"pEducHH.t.pvalue\",\"pEducW.ks.pvalue\",\"pEducW.t.pvalue\",\"pHHInc.ks.pvalue\",\"pHHInc.t.pvalue\",\"pOwnHome.t.pvalue\",\"pRep.t.pvalue\",\"pKnowledge.ks.pvalue\",\"pKnowledge.t.pvalue\",\"Mean Count Bal. Key\",\"Mean Bal. Key\",\"Var. Bal. Key\",\"Mean Count Bal. All\",\"Mean Bal. All\",\"Var Bal. All\",\"% eta >.99\",\"% eta >.99\",\"% eta >.90\",\"% eta >.75\",\"% eta >.50\",\"% eta >.25\",\"% eta >.1\",\n",
    "\"Est_LinProbATT3\",\"Pvalue\",\"yGPA.ks.pvalue\",\"yGPA.t.pvalue\",\"yGen.t.pvalue\",\"yRace1.t.pvalue\",\"yRace2.t.pvalue\",\"yRep.t.pvalue\",\"yKnowledge.ks.pvalue\",\"yKnowledge.t.pvalue\",\"yNextSch.t.pvalue\",\"pVote.t.pvalue\",\"pPersuade.t.pvalue\",\"pParticipate2.ks.pvalue\",\"pParticipate2.t.pvalue\",\"pEmploy.t.pvalue\",\"pEducHH.ks.pvalue\",\"pEducHH.t.pvalue\",\"pEducW.ks.pvalue\",\"pEducW.t.pvalue\",\"pHHInc.ks.pvalue\",\"pHHInc.t.pvalue\",\"pOwnHome.t.pvalue\",\"pRep.t.pvalue\",\"pKnowledge.ks.pvalue\",\"pKnowledge.t.pvalue\",\"Mean Count Bal. Key\",\"Mean Bal. Key\",\"Var. Bal. Key\",\"Mean Count Bal. All\",\"Mean Bal. All\",\"Var Bal. All\",\"% eta >.99\",\"% eta >.99\",\"% eta >.90\",\"% eta >.75\",\"% eta >.50\",\"% eta >.25\",\"% eta >.1\",\n",
    "\"Est_LinPredATC1\",\"Pvalue\",\"yGPA.ks.pvalue\",\"yGPA.t.pvalue\",\"yGen.t.pvalue\",\"yRace1.t.pvalue\",\"yRace2.t.pvalue\",\"yRep.t.pvalue\",\"yKnowledge.ks.pvalue\",\"yKnowledge.t.pvalue\",\"yNextSch.t.pvalue\",\"pVote.t.pvalue\",\"pPersuade.t.pvalue\",\"pParticipate2.ks.pvalue\",\"pParticipate2.t.pvalue\",\"pEmploy.t.pvalue\",\"pEducHH.ks.pvalue\",\"pEducHH.t.pvalue\",\"pEducW.ks.pvalue\",\"pEducW.t.pvalue\",\"pHHInc.ks.pvalue\",\"pHHInc.t.pvalue\",\"pOwnHome.t.pvalue\",\"pRep.t.pvalue\",\"pKnowledge.ks.pvalue\",\"pKnowledge.t.pvalue\",\"Mean Count Bal. Key\",\"Mean Bal. Key\",\"Var. Bal. Key\",\"Mean Count Bal. All\",\"Mean Bal. All\",\"Var Bal. All\",\"% eta >.99\",\"% eta >.99\",\"% eta >.90\",\"% eta >.75\",\"% eta >.50\",\"% eta >.25\",\"% eta >.1\",\n",
    "\"Est_LinPredATC3\",\"Pvalue\",\"yGPA.ks.pvalue\",\"yGPA.t.pvalue\",\"yGen.t.pvalue\",\"yRace1.t.pvalue\",\"yRace2.t.pvalue\",\"yRep.t.pvalue\",\"yKnowledge.ks.pvalue\",\"yKnowledge.t.pvalue\",\"yNextSch.t.pvalue\",\"pVote.t.pvalue\",\"pPersuade.t.pvalue\",\"pParticipate2.ks.pvalue\",\"pParticipate2.t.pvalue\",\"pEmploy.t.pvalue\",\"pEducHH.ks.pvalue\",\"pEducHH.t.pvalue\",\"pEducW.ks.pvalue\",\"pEducW.t.pvalue\",\"pHHInc.ks.pvalue\",\"pHHInc.t.pvalue\",\"pOwnHome.t.pvalue\",\"pRep.t.pvalue\",\"pKnowledge.ks.pvalue\",\"pKnowledge.t.pvalue\",\"Mean Count Bal. Key\",\"Mean Bal. Key\",\"Var. Bal. Key\",\"Mean Count Bal. All\",\"Mean Bal. All\",\"Var Bal. All\",\"% eta >.99\",\"% eta >.99\",\"% eta >.90\",\"% eta >.75\",\"% eta >.50\",\"% eta >.25\",\"% eta >.1\")\n",
    "save(object,file=\"81_full.Rdata\")"
   ]
  },
  {
   "cell_type": "code",
   "execution_count": null,
   "id": "a047462c",
   "metadata": {
    "scrolled": true
   },
   "outputs": [],
   "source": [
    "# Propensity Score Iterations: Groups of 15\n",
    "\n",
    "object=apply(indicator[c(1:5000),],1,pscore.eval)\n",
    "rownames(object)=c(\n",
    "\"Est_PredProbATT1\",\"Pvalue\",\"yGPA.ks.pvalue\",\"yGPA.t.pvalue\",\"yGen.t.pvalue\",\"yRace1.t.pvalue\",\"yRace2.t.pvalue\",\"yRep.t.pvalue\",\"yKnowledge.ks.pvalue\",\"yKnowledge.t.pvalue\",\"yNextSch.t.pvalue\",\"pVote.t.pvalue\",\"pPersuade.t.pvalue\",\"pParticipate2.ks.pvalue\",\"pParticipate2.t.pvalue\",\"pEmploy.t.pvalue\",\"pEducHH.ks.pvalue\",\"pEducHH.t.pvalue\",\"pEducW.ks.pvalue\",\"pEducW.t.pvalue\",\"pHHInc.ks.pvalue\",\"pHHInc.t.pvalue\",\"pOwnHome.t.pvalue\",\"pRep.t.pvalue\",\"pKnowledge.ks.pvalue\",\"pKnowledge.t.pvalue\",\"Mean Count Bal. Key\",\"Mean Bal. Key\",\"Var. Bal. Key\",\"Mean Count Bal. All\",\"Mean Bal. All\",\"Var Bal. All\",\"% eta >.99\",\"% eta >.99\",\"% eta >.90\",\"% eta >.75\",\"% eta >.50\",\"% eta >.25\",\"% eta >.1\",\n",
    "\"Est_PredPredATT3\",\"Pvalue\",\"yGPA.ks.pvalue\",\"yGPA.t.pvalue\",\"yGen.t.pvalue\",\"yRace1.t.pvalue\",\"yRace2.t.pvalue\",\"yRep.t.pvalue\",\"yKnowledge.ks.pvalue\",\"yKnowledge.t.pvalue\",\"yNextSch.t.pvalue\",\"pVote.t.pvalue\",\"pPersuade.t.pvalue\",\"pParticipate2.ks.pvalue\",\"pParticipate2.t.pvalue\",\"pEmploy.t.pvalue\",\"pEducHH.ks.pvalue\",\"pEducHH.t.pvalue\",\"pEducW.ks.pvalue\",\"pEducW.t.pvalue\",\"pHHInc.ks.pvalue\",\"pHHInc.t.pvalue\",\"pOwnHome.t.pvalue\",\"pRep.t.pvalue\",\"pKnowledge.ks.pvalue\",\"pKnowledge.t.pvalue\",\"Mean Count Bal. Key\",\"Mean Bal. Key\",\"Var. Bal. Key\",\"Mean Count Bal. All\",\"Mean Bal. All\",\"Var Bal. All\",\"% eta >.99\",\"% eta >.99\",\"% eta >.90\",\"% eta >.75\",\"% eta >.50\",\"% eta >.25\",\"% eta >.1\",\n",
    "\"Est_LinPredATT1\",\"Pvalue\",\"yGPA.ks.pvalue\",\"yGPA.t.pvalue\",\"yGen.t.pvalue\",\"yRace1.t.pvalue\",\"yRace2.t.pvalue\",\"yRep.t.pvalue\",\"yKnowledge.ks.pvalue\",\"yKnowledge.t.pvalue\",\"yNextSch.t.pvalue\",\"pVote.t.pvalue\",\"pPersuade.t.pvalue\",\"pParticipate2.ks.pvalue\",\"pParticipate2.t.pvalue\",\"pEmploy.t.pvalue\",\"pEducHH.ks.pvalue\",\"pEducHH.t.pvalue\",\"pEducW.ks.pvalue\",\"pEducW.t.pvalue\",\"pHHInc.ks.pvalue\",\"pHHInc.t.pvalue\",\"pOwnHome.t.pvalue\",\"pRep.t.pvalue\",\"pKnowledge.ks.pvalue\",\"pKnowledge.t.pvalue\",\"Mean Count Bal. Key\",\"Mean Bal. Key\",\"Var. Bal. Key\",\"Mean Count Bal. All\",\"Mean Bal. All\",\"Var Bal. All\",\"% eta >.99\",\"% eta >.99\",\"% eta >.90\",\"% eta >.75\",\"% eta >.50\",\"% eta >.25\",\"% eta >.1\",\n",
    "\"Est_LinProbATT3\",\"Pvalue\",\"yGPA.ks.pvalue\",\"yGPA.t.pvalue\",\"yGen.t.pvalue\",\"yRace1.t.pvalue\",\"yRace2.t.pvalue\",\"yRep.t.pvalue\",\"yKnowledge.ks.pvalue\",\"yKnowledge.t.pvalue\",\"yNextSch.t.pvalue\",\"pVote.t.pvalue\",\"pPersuade.t.pvalue\",\"pParticipate2.ks.pvalue\",\"pParticipate2.t.pvalue\",\"pEmploy.t.pvalue\",\"pEducHH.ks.pvalue\",\"pEducHH.t.pvalue\",\"pEducW.ks.pvalue\",\"pEducW.t.pvalue\",\"pHHInc.ks.pvalue\",\"pHHInc.t.pvalue\",\"pOwnHome.t.pvalue\",\"pRep.t.pvalue\",\"pKnowledge.ks.pvalue\",\"pKnowledge.t.pvalue\",\"Mean Count Bal. Key\",\"Mean Bal. Key\",\"Var. Bal. Key\",\"Mean Count Bal. All\",\"Mean Bal. All\",\"Var Bal. All\",\"% eta >.99\",\"% eta >.99\",\"% eta >.90\",\"% eta >.75\",\"% eta >.50\",\"% eta >.25\",\"% eta >.1\",\n",
    "\"Est_LinPredATC1\",\"Pvalue\",\"yGPA.ks.pvalue\",\"yGPA.t.pvalue\",\"yGen.t.pvalue\",\"yRace1.t.pvalue\",\"yRace2.t.pvalue\",\"yRep.t.pvalue\",\"yKnowledge.ks.pvalue\",\"yKnowledge.t.pvalue\",\"yNextSch.t.pvalue\",\"pVote.t.pvalue\",\"pPersuade.t.pvalue\",\"pParticipate2.ks.pvalue\",\"pParticipate2.t.pvalue\",\"pEmploy.t.pvalue\",\"pEducHH.ks.pvalue\",\"pEducHH.t.pvalue\",\"pEducW.ks.pvalue\",\"pEducW.t.pvalue\",\"pHHInc.ks.pvalue\",\"pHHInc.t.pvalue\",\"pOwnHome.t.pvalue\",\"pRep.t.pvalue\",\"pKnowledge.ks.pvalue\",\"pKnowledge.t.pvalue\",\"Mean Count Bal. Key\",\"Mean Bal. Key\",\"Var. Bal. Key\",\"Mean Count Bal. All\",\"Mean Bal. All\",\"Var Bal. All\",\"% eta >.99\",\"% eta >.99\",\"% eta >.90\",\"% eta >.75\",\"% eta >.50\",\"% eta >.25\",\"% eta >.1\",\n",
    "\"Est_LinPredATC3\",\"Pvalue\",\"yGPA.ks.pvalue\",\"yGPA.t.pvalue\",\"yGen.t.pvalue\",\"yRace1.t.pvalue\",\"yRace2.t.pvalue\",\"yRep.t.pvalue\",\"yKnowledge.ks.pvalue\",\"yKnowledge.t.pvalue\",\"yNextSch.t.pvalue\",\"pVote.t.pvalue\",\"pPersuade.t.pvalue\",\"pParticipate2.ks.pvalue\",\"pParticipate2.t.pvalue\",\"pEmploy.t.pvalue\",\"pEducHH.ks.pvalue\",\"pEducHH.t.pvalue\",\"pEducW.ks.pvalue\",\"pEducW.t.pvalue\",\"pHHInc.ks.pvalue\",\"pHHInc.t.pvalue\",\"pOwnHome.t.pvalue\",\"pRep.t.pvalue\",\"pKnowledge.ks.pvalue\",\"pKnowledge.t.pvalue\",\"Mean Count Bal. Key\",\"Mean Bal. Key\",\"Var. Bal. Key\",\"Mean Count Bal. All\",\"Mean Bal. All\",\"Var Bal. All\",\"% eta >.99\",\"% eta >.99\",\"% eta >.90\",\"% eta >.75\",\"% eta >.50\",\"% eta >.25\",\"% eta >.1\")\n",
    "save(object,file=\"81_1_full.Rdata\")"
   ]
  },
  {
   "cell_type": "code",
   "execution_count": null,
   "id": "29a7672e",
   "metadata": {},
   "outputs": [],
   "source": [
    "object=apply(indicator[c(5001:20000),],1,pscore.eval)\n",
    "rownames(object)=c(\n",
    "\"Est_PredProbATT1\",\"Pvalue\",\"yGPA.ks.pvalue\",\"yGPA.t.pvalue\",\"yGen.t.pvalue\",\"yRace1.t.pvalue\",\"yRace2.t.pvalue\",\"yRep.t.pvalue\",\"yKnowledge.ks.pvalue\",\"yKnowledge.t.pvalue\",\"yNextSch.t.pvalue\",\"pVote.t.pvalue\",\"pPersuade.t.pvalue\",\"pParticipate2.ks.pvalue\",\"pParticipate2.t.pvalue\",\"pEmploy.t.pvalue\",\"pEducHH.ks.pvalue\",\"pEducHH.t.pvalue\",\"pEducW.ks.pvalue\",\"pEducW.t.pvalue\",\"pHHInc.ks.pvalue\",\"pHHInc.t.pvalue\",\"pOwnHome.t.pvalue\",\"pRep.t.pvalue\",\"pKnowledge.ks.pvalue\",\"pKnowledge.t.pvalue\",\"Mean Count Bal. Key\",\"Mean Bal. Key\",\"Var. Bal. Key\",\"Mean Count Bal. All\",\"Mean Bal. All\",\"Var Bal. All\",\"% eta >.99\",\"% eta >.99\",\"% eta >.90\",\"% eta >.75\",\"% eta >.50\",\"% eta >.25\",\"% eta >.1\",\n",
    "\"Est_PredPredATT3\",\"Pvalue\",\"yGPA.ks.pvalue\",\"yGPA.t.pvalue\",\"yGen.t.pvalue\",\"yRace1.t.pvalue\",\"yRace2.t.pvalue\",\"yRep.t.pvalue\",\"yKnowledge.ks.pvalue\",\"yKnowledge.t.pvalue\",\"yNextSch.t.pvalue\",\"pVote.t.pvalue\",\"pPersuade.t.pvalue\",\"pParticipate2.ks.pvalue\",\"pParticipate2.t.pvalue\",\"pEmploy.t.pvalue\",\"pEducHH.ks.pvalue\",\"pEducHH.t.pvalue\",\"pEducW.ks.pvalue\",\"pEducW.t.pvalue\",\"pHHInc.ks.pvalue\",\"pHHInc.t.pvalue\",\"pOwnHome.t.pvalue\",\"pRep.t.pvalue\",\"pKnowledge.ks.pvalue\",\"pKnowledge.t.pvalue\",\"Mean Count Bal. Key\",\"Mean Bal. Key\",\"Var. Bal. Key\",\"Mean Count Bal. All\",\"Mean Bal. All\",\"Var Bal. All\",\"% eta >.99\",\"% eta >.99\",\"% eta >.90\",\"% eta >.75\",\"% eta >.50\",\"% eta >.25\",\"% eta >.1\",\n",
    "\"Est_LinPredATT1\",\"Pvalue\",\"yGPA.ks.pvalue\",\"yGPA.t.pvalue\",\"yGen.t.pvalue\",\"yRace1.t.pvalue\",\"yRace2.t.pvalue\",\"yRep.t.pvalue\",\"yKnowledge.ks.pvalue\",\"yKnowledge.t.pvalue\",\"yNextSch.t.pvalue\",\"pVote.t.pvalue\",\"pPersuade.t.pvalue\",\"pParticipate2.ks.pvalue\",\"pParticipate2.t.pvalue\",\"pEmploy.t.pvalue\",\"pEducHH.ks.pvalue\",\"pEducHH.t.pvalue\",\"pEducW.ks.pvalue\",\"pEducW.t.pvalue\",\"pHHInc.ks.pvalue\",\"pHHInc.t.pvalue\",\"pOwnHome.t.pvalue\",\"pRep.t.pvalue\",\"pKnowledge.ks.pvalue\",\"pKnowledge.t.pvalue\",\"Mean Count Bal. Key\",\"Mean Bal. Key\",\"Var. Bal. Key\",\"Mean Count Bal. All\",\"Mean Bal. All\",\"Var Bal. All\",\"% eta >.99\",\"% eta >.99\",\"% eta >.90\",\"% eta >.75\",\"% eta >.50\",\"% eta >.25\",\"% eta >.1\",\n",
    "\"Est_LinProbATT3\",\"Pvalue\",\"yGPA.ks.pvalue\",\"yGPA.t.pvalue\",\"yGen.t.pvalue\",\"yRace1.t.pvalue\",\"yRace2.t.pvalue\",\"yRep.t.pvalue\",\"yKnowledge.ks.pvalue\",\"yKnowledge.t.pvalue\",\"yNextSch.t.pvalue\",\"pVote.t.pvalue\",\"pPersuade.t.pvalue\",\"pParticipate2.ks.pvalue\",\"pParticipate2.t.pvalue\",\"pEmploy.t.pvalue\",\"pEducHH.ks.pvalue\",\"pEducHH.t.pvalue\",\"pEducW.ks.pvalue\",\"pEducW.t.pvalue\",\"pHHInc.ks.pvalue\",\"pHHInc.t.pvalue\",\"pOwnHome.t.pvalue\",\"pRep.t.pvalue\",\"pKnowledge.ks.pvalue\",\"pKnowledge.t.pvalue\",\"Mean Count Bal. Key\",\"Mean Bal. Key\",\"Var. Bal. Key\",\"Mean Count Bal. All\",\"Mean Bal. All\",\"Var Bal. All\",\"% eta >.99\",\"% eta >.99\",\"% eta >.90\",\"% eta >.75\",\"% eta >.50\",\"% eta >.25\",\"% eta >.1\",\n",
    "\"Est_LinPredATC1\",\"Pvalue\",\"yGPA.ks.pvalue\",\"yGPA.t.pvalue\",\"yGen.t.pvalue\",\"yRace1.t.pvalue\",\"yRace2.t.pvalue\",\"yRep.t.pvalue\",\"yKnowledge.ks.pvalue\",\"yKnowledge.t.pvalue\",\"yNextSch.t.pvalue\",\"pVote.t.pvalue\",\"pPersuade.t.pvalue\",\"pParticipate2.ks.pvalue\",\"pParticipate2.t.pvalue\",\"pEmploy.t.pvalue\",\"pEducHH.ks.pvalue\",\"pEducHH.t.pvalue\",\"pEducW.ks.pvalue\",\"pEducW.t.pvalue\",\"pHHInc.ks.pvalue\",\"pHHInc.t.pvalue\",\"pOwnHome.t.pvalue\",\"pRep.t.pvalue\",\"pKnowledge.ks.pvalue\",\"pKnowledge.t.pvalue\",\"Mean Count Bal. Key\",\"Mean Bal. Key\",\"Var. Bal. Key\",\"Mean Count Bal. All\",\"Mean Bal. All\",\"Var Bal. All\",\"% eta >.99\",\"% eta >.99\",\"% eta >.90\",\"% eta >.75\",\"% eta >.50\",\"% eta >.25\",\"% eta >.1\",\n",
    "\"Est_LinPredATC3\",\"Pvalue\",\"yGPA.ks.pvalue\",\"yGPA.t.pvalue\",\"yGen.t.pvalue\",\"yRace1.t.pvalue\",\"yRace2.t.pvalue\",\"yRep.t.pvalue\",\"yKnowledge.ks.pvalue\",\"yKnowledge.t.pvalue\",\"yNextSch.t.pvalue\",\"pVote.t.pvalue\",\"pPersuade.t.pvalue\",\"pParticipate2.ks.pvalue\",\"pParticipate2.t.pvalue\",\"pEmploy.t.pvalue\",\"pEducHH.ks.pvalue\",\"pEducHH.t.pvalue\",\"pEducW.ks.pvalue\",\"pEducW.t.pvalue\",\"pHHInc.ks.pvalue\",\"pHHInc.t.pvalue\",\"pOwnHome.t.pvalue\",\"pRep.t.pvalue\",\"pKnowledge.ks.pvalue\",\"pKnowledge.t.pvalue\",\"Mean Count Bal. Key\",\"Mean Bal. Key\",\"Var. Bal. Key\",\"Mean Count Bal. All\",\"Mean Bal. All\",\"Var Bal. All\",\"% eta >.99\",\"% eta >.99\",\"% eta >.90\",\"% eta >.75\",\"% eta >.50\",\"% eta >.25\",\"% eta >.1\")\n",
    "save(object,file=\"81_2_full.Rdata\")\n",
    "\n",
    "\n",
    "object=apply(indicator[c(740001:766642),],1,pscore.eval)\n",
    "rownames(object)=c(\n",
    "\"Est_PredProbATT1\",\"Pvalue\",\"yGPA.ks.pvalue\",\"yGPA.t.pvalue\",\"yGen.t.pvalue\",\"yRace1.t.pvalue\",\"yRace2.t.pvalue\",\"yRep.t.pvalue\",\"yKnowledge.ks.pvalue\",\"yKnowledge.t.pvalue\",\"yNextSch.t.pvalue\",\"pVote.t.pvalue\",\"pPersuade.t.pvalue\",\"pParticipate2.ks.pvalue\",\"pParticipate2.t.pvalue\",\"pEmploy.t.pvalue\",\"pEducHH.ks.pvalue\",\"pEducHH.t.pvalue\",\"pEducW.ks.pvalue\",\"pEducW.t.pvalue\",\"pHHInc.ks.pvalue\",\"pHHInc.t.pvalue\",\"pOwnHome.t.pvalue\",\"pRep.t.pvalue\",\"pKnowledge.ks.pvalue\",\"pKnowledge.t.pvalue\",\"Mean Count Bal. Key\",\"Mean Bal. Key\",\"Var. Bal. Key\",\"Mean Count Bal. All\",\"Mean Bal. All\",\"Var Bal. All\",\"% eta >.99\",\"% eta >.99\",\"% eta >.90\",\"% eta >.75\",\"% eta >.50\",\"% eta >.25\",\"% eta >.1\",\n",
    "\"Est_PredPredATT3\",\"Pvalue\",\"yGPA.ks.pvalue\",\"yGPA.t.pvalue\",\"yGen.t.pvalue\",\"yRace1.t.pvalue\",\"yRace2.t.pvalue\",\"yRep.t.pvalue\",\"yKnowledge.ks.pvalue\",\"yKnowledge.t.pvalue\",\"yNextSch.t.pvalue\",\"pVote.t.pvalue\",\"pPersuade.t.pvalue\",\"pParticipate2.ks.pvalue\",\"pParticipate2.t.pvalue\",\"pEmploy.t.pvalue\",\"pEducHH.ks.pvalue\",\"pEducHH.t.pvalue\",\"pEducW.ks.pvalue\",\"pEducW.t.pvalue\",\"pHHInc.ks.pvalue\",\"pHHInc.t.pvalue\",\"pOwnHome.t.pvalue\",\"pRep.t.pvalue\",\"pKnowledge.ks.pvalue\",\"pKnowledge.t.pvalue\",\"Mean Count Bal. Key\",\"Mean Bal. Key\",\"Var. Bal. Key\",\"Mean Count Bal. All\",\"Mean Bal. All\",\"Var Bal. All\",\"% eta >.99\",\"% eta >.99\",\"% eta >.90\",\"% eta >.75\",\"% eta >.50\",\"% eta >.25\",\"% eta >.1\",\n",
    "\"Est_LinPredATT1\",\"Pvalue\",\"yGPA.ks.pvalue\",\"yGPA.t.pvalue\",\"yGen.t.pvalue\",\"yRace1.t.pvalue\",\"yRace2.t.pvalue\",\"yRep.t.pvalue\",\"yKnowledge.ks.pvalue\",\"yKnowledge.t.pvalue\",\"yNextSch.t.pvalue\",\"pVote.t.pvalue\",\"pPersuade.t.pvalue\",\"pParticipate2.ks.pvalue\",\"pParticipate2.t.pvalue\",\"pEmploy.t.pvalue\",\"pEducHH.ks.pvalue\",\"pEducHH.t.pvalue\",\"pEducW.ks.pvalue\",\"pEducW.t.pvalue\",\"pHHInc.ks.pvalue\",\"pHHInc.t.pvalue\",\"pOwnHome.t.pvalue\",\"pRep.t.pvalue\",\"pKnowledge.ks.pvalue\",\"pKnowledge.t.pvalue\",\"Mean Count Bal. Key\",\"Mean Bal. Key\",\"Var. Bal. Key\",\"Mean Count Bal. All\",\"Mean Bal. All\",\"Var Bal. All\",\"% eta >.99\",\"% eta >.99\",\"% eta >.90\",\"% eta >.75\",\"% eta >.50\",\"% eta >.25\",\"% eta >.1\",\n",
    "\"Est_LinProbATT3\",\"Pvalue\",\"yGPA.ks.pvalue\",\"yGPA.t.pvalue\",\"yGen.t.pvalue\",\"yRace1.t.pvalue\",\"yRace2.t.pvalue\",\"yRep.t.pvalue\",\"yKnowledge.ks.pvalue\",\"yKnowledge.t.pvalue\",\"yNextSch.t.pvalue\",\"pVote.t.pvalue\",\"pPersuade.t.pvalue\",\"pParticipate2.ks.pvalue\",\"pParticipate2.t.pvalue\",\"pEmploy.t.pvalue\",\"pEducHH.ks.pvalue\",\"pEducHH.t.pvalue\",\"pEducW.ks.pvalue\",\"pEducW.t.pvalue\",\"pHHInc.ks.pvalue\",\"pHHInc.t.pvalue\",\"pOwnHome.t.pvalue\",\"pRep.t.pvalue\",\"pKnowledge.ks.pvalue\",\"pKnowledge.t.pvalue\",\"Mean Count Bal. Key\",\"Mean Bal. Key\",\"Var. Bal. Key\",\"Mean Count Bal. All\",\"Mean Bal. All\",\"Var Bal. All\",\"% eta >.99\",\"% eta >.99\",\"% eta >.90\",\"% eta >.75\",\"% eta >.50\",\"% eta >.25\",\"% eta >.1\",\n",
    "\"Est_LinPredATC1\",\"Pvalue\",\"yGPA.ks.pvalue\",\"yGPA.t.pvalue\",\"yGen.t.pvalue\",\"yRace1.t.pvalue\",\"yRace2.t.pvalue\",\"yRep.t.pvalue\",\"yKnowledge.ks.pvalue\",\"yKnowledge.t.pvalue\",\"yNextSch.t.pvalue\",\"pVote.t.pvalue\",\"pPersuade.t.pvalue\",\"pParticipate2.ks.pvalue\",\"pParticipate2.t.pvalue\",\"pEmploy.t.pvalue\",\"pEducHH.ks.pvalue\",\"pEducHH.t.pvalue\",\"pEducW.ks.pvalue\",\"pEducW.t.pvalue\",\"pHHInc.ks.pvalue\",\"pHHInc.t.pvalue\",\"pOwnHome.t.pvalue\",\"pRep.t.pvalue\",\"pKnowledge.ks.pvalue\",\"pKnowledge.t.pvalue\",\"Mean Count Bal. Key\",\"Mean Bal. Key\",\"Var. Bal. Key\",\"Mean Count Bal. All\",\"Mean Bal. All\",\"Var Bal. All\",\"% eta >.99\",\"% eta >.99\",\"% eta >.90\",\"% eta >.75\",\"% eta >.50\",\"% eta >.25\",\"% eta >.1\",\n",
    "\"Est_LinPredATC3\",\"Pvalue\",\"yGPA.ks.pvalue\",\"yGPA.t.pvalue\",\"yGen.t.pvalue\",\"yRace1.t.pvalue\",\"yRace2.t.pvalue\",\"yRep.t.pvalue\",\"yKnowledge.ks.pvalue\",\"yKnowledge.t.pvalue\",\"yNextSch.t.pvalue\",\"pVote.t.pvalue\",\"pPersuade.t.pvalue\",\"pParticipate2.ks.pvalue\",\"pParticipate2.t.pvalue\",\"pEmploy.t.pvalue\",\"pEducHH.ks.pvalue\",\"pEducHH.t.pvalue\",\"pEducW.ks.pvalue\",\"pEducW.t.pvalue\",\"pHHInc.ks.pvalue\",\"pHHInc.t.pvalue\",\"pOwnHome.t.pvalue\",\"pRep.t.pvalue\",\"pKnowledge.ks.pvalue\",\"pKnowledge.t.pvalue\",\"Mean Count Bal. Key\",\"Mean Bal. Key\",\"Var. Bal. Key\",\"Mean Count Bal. All\",\"Mean Bal. All\",\"Var Bal. All\",\"% eta >.99\",\"% eta >.99\",\"% eta >.90\",\"% eta >.75\",\"% eta >.50\",\"% eta >.25\",\"% eta >.1\")\n",
    "save(object,file=\"81_15_full.Rdata\")"
   ]
  }
 ],
 "metadata": {
  "kernelspec": {
   "display_name": "R",
   "language": "R",
   "name": "ir"
  },
  "language_info": {
   "codemirror_mode": "r",
   "file_extension": ".r",
   "mimetype": "text/x-r-source",
   "name": "R",
   "pygments_lexer": "r",
   "version": "3.6.1"
  }
 },
 "nbformat": 4,
 "nbformat_minor": 5
}
